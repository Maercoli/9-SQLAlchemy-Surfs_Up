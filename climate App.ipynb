{
 "cells": [
  {
   "cell_type": "code",
   "execution_count": 1,
   "metadata": {},
   "outputs": [],
   "source": [
    "import datetime as dt\n",
    "from flask import Flask, jsonify"
   ]
  },
  {
   "cell_type": "code",
   "execution_count": 2,
   "metadata": {},
   "outputs": [],
   "source": [
    "# Python SQL toolkit and Object Relational Mapper\n",
    "import sqlalchemy\n",
    "from sqlalchemy.ext.automap import automap_base\n",
    "from sqlalchemy.orm import Session\n",
    "from sqlalchemy import create_engine, func, inspect"
   ]
  },
  {
   "cell_type": "code",
   "execution_count": 3,
   "metadata": {},
   "outputs": [],
   "source": [
    "engine = create_engine(\"sqlite:///Resources/hawaii.sqlite\")\n",
    "Base = automap_base()\n",
    "Base.prepare(engine, reflect=True)\n",
    "session = Session(engine)"
   ]
  },
  {
   "cell_type": "code",
   "execution_count": 4,
   "metadata": {},
   "outputs": [],
   "source": [
    "Measurement = Base.classes.measurement\n",
    "Station = Base.classes.station"
   ]
  },
  {
   "cell_type": "code",
   "execution_count": 5,
   "metadata": {},
   "outputs": [],
   "source": [
    "# Flask\n",
    "app = Flask(__name__)"
   ]
  },
  {
   "cell_type": "code",
   "execution_count": 6,
   "metadata": {},
   "outputs": [],
   "source": [
    "# Homepage: List all routes that are available\n",
    "@app.route(\"/\")\n",
    "def home():\n",
    "    \"\"\"List all available api routes.\"\"\"\n",
    "    return (\n",
    "        f\"Welcome to the Climate API!<br/>\"\n",
    "        f\"Available Routes:<br/>\"\n",
    "        f\"/api/v1.0/precipitation<br/>\"\n",
    "        f\"/api/v1.0/stations<br/>\"\n",
    "        f\"/api/v1.0/tobs<br/>\"\n",
    "        f\"/api/v1.0/<start><br/>\"\n",
    "        f\"Note: API (/api/v1.0/) request takes one parameter: Start date (e.g. 2014-05-02)<br/>\"\n",
    "        f\"/api/v1.0/<start>/<end><br/>\"\n",
    "        f\"Note: API (/api/v1.0//) request takes two parameter: Start date/ End date (e.g. 2014-05-02/2015-10-10)\"\n",
    "    )"
   ]
  },
  {
   "cell_type": "code",
   "execution_count": 7,
   "metadata": {},
   "outputs": [],
   "source": [
    "# Return the JSON representation of your dictionary\n",
    "@app.route(\"/api/v1.0/precipitation\")\n",
    "def precipitation():\n",
    "    maxDate = dt.date(2017, 8 ,23)\n",
    "    year_ago = maxDate - dt.timedelta(days=365)\n",
    "\n",
    "    past_temp = (session.query(Measurement.date, Measurement.prcp)\n",
    "                .filter(Measurement.date <= maxDate)\n",
    "                .filter(Measurement.date >= year_ago)\n",
    "                .order_by(Measurement.date).all())\n",
    "    \n",
    "    precip = {date: prcp for date, prcp in past_temp}\n",
    "    \n",
    "    return jsonify(precip)"
   ]
  },
  {
   "cell_type": "code",
   "execution_count": 8,
   "metadata": {},
   "outputs": [],
   "source": [
    "# Return a JSON-list of stations from the dataset.\n",
    "@app.route('/api/v1.0/stations')\n",
    "def stations():\n",
    "\n",
    "    stations_all = session.query(Station.station).all()\n",
    "\n",
    "    return jsonify(stations_all)"
   ]
  },
  {
   "cell_type": "code",
   "execution_count": 9,
   "metadata": {},
   "outputs": [],
   "source": [
    "# Return a JSON-list of Temperature Observations from the dataset.\n",
    "@app.route('/api/v1.0/tobs') \n",
    "def tobs():  \n",
    "    maxDate = dt.date(2017, 8 ,23)\n",
    "    year_ago = maxDate - dt.timedelta(days=365)\n",
    "\n",
    "    lastyear = (session.query(Measurement.tobs)\n",
    "                .filter(Measurement.station == 'USC00519281')\n",
    "                .filter(Measurement.date <= maxDate)\n",
    "                .filter(Measurement.date >= year_ago)\n",
    "                .order_by(Measurement.tobs).all())\n",
    "    \n",
    "    return jsonify(lastyear)"
   ]
  },
  {
   "cell_type": "code",
   "execution_count": 10,
   "metadata": {},
   "outputs": [],
   "source": [
    "# Return a JSON list of the minimum temperature, the average temperature, and the max temperature for a given\n",
    "@app.route('/api/v1.0/<start>') \n",
    "def start(start=None):\n",
    "\n",
    "    #start = Measurement.date <= '2010-01-01'\n",
    "    #end = Measurement.date >= '2017-08-23'\n",
    "\n",
    "    tobs_only = (session.query(Measurement.tobs).filter(Measurement.date.between(start, '2017-08-23')).all())\n",
    "    \n",
    "    tobs_df = pd.DataFrame(tobs_only)\n",
    "\n",
    "    tavg = tobs_df[\"tobs\"].mean()\n",
    "    tmax = tobs_df[\"tobs\"].max()\n",
    "    tmin = tobs_df[\"tobs\"].min()\n",
    "    \n",
    "    return jsonify(tavg, tmax, tmin)"
   ]
  },
  {
   "cell_type": "code",
   "execution_count": 11,
   "metadata": {},
   "outputs": [],
   "source": [
    "# Return a JSON list of the minimum temperature, the average temperature, and the max temperature for a given start-end range.\n",
    "@app.route('/api/v1.0/<start>/<end>') \n",
    "def startend(start=None, end=None):\n",
    "\n",
    "    #start = Measurement.date <= '2010-01-01'\n",
    "    #end = Measurement.date >= '2017-08-23'\n",
    "\n",
    "    tobs_only = (session.query(Measurement.tobs).filter(Measurement.date.between(start, end)).all())\n",
    "    \n",
    "    tobs_df = pd.DataFrame(tobs_only)\n",
    "\n",
    "    tavg = tobs_df[\"tobs\"].mean()\n",
    "    tmax = tobs_df[\"tobs\"].max()\n",
    "    tmin = tobs_df[\"tobs\"].min()\n",
    "    \n",
    "    return jsonify(tavg, tmax, tmin)"
   ]
  },
  {
   "cell_type": "code",
   "execution_count": 12,
   "metadata": {},
   "outputs": [
    {
     "name": "stdout",
     "output_type": "stream",
     "text": [
      " * Serving Flask app \"__main__\" (lazy loading)\n",
      " * Environment: production\n",
      "   WARNING: This is a development server. Do not use it in a production deployment.\n",
      "   Use a production WSGI server instead.\n",
      " * Debug mode: on\n"
     ]
    },
    {
     "name": "stderr",
     "output_type": "stream",
     "text": [
      " * Restarting with stat\n"
     ]
    },
    {
     "ename": "SystemExit",
     "evalue": "1",
     "output_type": "error",
     "traceback": [
      "An exception has occurred, use %tb to see the full traceback.\n",
      "\u001b[1;31mSystemExit\u001b[0m\u001b[1;31m:\u001b[0m 1\n"
     ]
    },
    {
     "name": "stderr",
     "output_type": "stream",
     "text": [
      "C:\\Users\\Marina\\AppData\\Roaming\\Python\\Python38\\site-packages\\IPython\\core\\interactiveshell.py:3426: UserWarning: To exit: use 'exit', 'quit', or Ctrl-D.\n",
      "  warn(\"To exit: use 'exit', 'quit', or Ctrl-D.\", stacklevel=1)\n"
     ]
    }
   ],
   "source": [
    "if __name__ == '__main__':\n",
    "    app.run(debug=True)"
   ]
  },
  {
   "cell_type": "code",
   "execution_count": null,
   "metadata": {},
   "outputs": [],
   "source": []
  },
  {
   "cell_type": "code",
   "execution_count": null,
   "metadata": {},
   "outputs": [],
   "source": []
  }
 ],
 "metadata": {
  "kernelspec": {
   "display_name": "Python 3",
   "language": "python",
   "name": "python3"
  },
  "language_info": {
   "codemirror_mode": {
    "name": "ipython",
    "version": 3
   },
   "file_extension": ".py",
   "mimetype": "text/x-python",
   "name": "python",
   "nbconvert_exporter": "python",
   "pygments_lexer": "ipython3",
   "version": "3.8.4"
  }
 },
 "nbformat": 4,
 "nbformat_minor": 4
}
